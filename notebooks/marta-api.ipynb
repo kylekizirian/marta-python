{
 "cells": [
  {
   "cell_type": "markdown",
   "metadata": {},
   "source": [
    "## Requires MARTA_API_KEY set in your environment\n",
    "\n",
    "Set this line in your `.bashrc`\n",
    "\n",
    "`export MARTA_API_KEY=YOUR_KEY`\n",
    "\n",
    "Sign up for a MARTA API key [here](https://www.itsmarta.com/developer-reg-rtt.aspx)!"
   ]
  },
  {
   "cell_type": "code",
   "execution_count": 1,
   "metadata": {},
   "outputs": [],
   "source": [
    "from marta.api import get_buses, get_trains"
   ]
  },
  {
   "cell_type": "code",
   "execution_count": 2,
   "metadata": {},
   "outputs": [],
   "source": [
    "buses = get_buses()"
   ]
  },
  {
   "cell_type": "code",
   "execution_count": 3,
   "metadata": {},
   "outputs": [
    {
     "name": "stdout",
     "output_type": "stream",
     "text": [
      "{'adherence': '0', 'block_id': '91', 'block_abbr': '121-5', 'direction': 'Northbound', 'latitude': '33.84301', 'longitude': '-84.2009796', 'last_updated': datetime.datetime(2019, 11, 9, 9, 3, 20), 'route': 121, 'stop_id': '901618', 'timepoint': 'Ponce de Leon Ave & Hairston Rd', 'trip_id': '6895623', 'vehicle': '1629'}\n"
     ]
    }
   ],
   "source": [
    "print(buses[0])"
   ]
  },
  {
   "cell_type": "code",
   "execution_count": 4,
   "metadata": {},
   "outputs": [
    {
     "name": "stdout",
     "output_type": "stream",
     "text": [
      "270\n"
     ]
    }
   ],
   "source": [
    "print(len(buses))"
   ]
  },
  {
   "cell_type": "code",
   "execution_count": 5,
   "metadata": {},
   "outputs": [],
   "source": [
    "buses_time_sorted = sorted(buses, key=lambda bus:bus.last_updated, reverse=True)"
   ]
  },
  {
   "cell_type": "code",
   "execution_count": 7,
   "metadata": {},
   "outputs": [
    {
     "name": "stdout",
     "output_type": "stream",
     "text": [
      "2019-11-09 09:34:54\n",
      "Armour Dr & Clayton Rd\n",
      "\n",
      "2019-11-09 09:34:53\n",
      "Hamilton E Holmes Station\n",
      "\n",
      "2019-11-09 09:34:52\n",
      "Headland Dr & Graywall St\n",
      "\n",
      "2019-11-09 09:34:49\n",
      "Greenbriar Pkwy & Headland Dr\n",
      "\n",
      "2019-11-09 09:34:44\n",
      "Alabama St & Broad St (5 Pts)\n",
      "\n"
     ]
    }
   ],
   "source": [
    "for bus in buses_time_sorted[:5]:\n",
    "    print(bus.last_updated)\n",
    "    print(bus.timepoint)\n",
    "    print('')"
   ]
  },
  {
   "cell_type": "code",
   "execution_count": 7,
   "metadata": {},
   "outputs": [],
   "source": [
    "trains = get_trains()"
   ]
  },
  {
   "cell_type": "code",
   "execution_count": 8,
   "metadata": {},
   "outputs": [],
   "source": [
    "trains_time_sorted = sorted(trains, key=lambda bus:bus.last_updated, reverse=True)"
   ]
  },
  {
   "cell_type": "code",
   "execution_count": 9,
   "metadata": {},
   "outputs": [
    {
     "name": "stdout",
     "output_type": "stream",
     "text": [
      "2019-08-02 10:35:20\n",
      "Arriving at ARTS CENTER STATION at 10:36:03\n",
      "307506\n",
      "\n",
      "2019-08-02 10:35:20\n",
      "Arriving at WEST END STATION at 10:36:48\n",
      "306506\n",
      "\n",
      "2019-08-02 10:35:20\n",
      "Arriving at MIDTOWN STATION at 10:37:23\n",
      "307506\n",
      "\n",
      "2019-08-02 10:35:20\n",
      "Arriving at NORTH AVE STATION at 10:39:00\n",
      "307506\n",
      "\n",
      "2019-08-02 10:35:20\n",
      "Arriving at OAKLAND CITY STATION at 10:39:21\n",
      "306506\n",
      "\n"
     ]
    }
   ],
   "source": [
    "for train in trains_time_sorted[:5]:\n",
    "    print(train.last_updated)\n",
    "    print(f\"Arriving at {train.station} at {train.next_arrival}\")\n",
    "    print(train.train_id)\n",
    "    print('')"
   ]
  },
  {
   "cell_type": "code",
   "execution_count": 10,
   "metadata": {},
   "outputs": [],
   "source": [
    "unique_train_ids = list(set([train.train_id for train in trains]))"
   ]
  },
  {
   "cell_type": "code",
   "execution_count": 11,
   "metadata": {},
   "outputs": [
    {
     "data": {
      "text/plain": [
       "24"
      ]
     },
     "execution_count": 11,
     "metadata": {},
     "output_type": "execute_result"
    }
   ],
   "source": [
    "len(unique_train_ids)"
   ]
  }
 ],
 "metadata": {
  "kernelspec": {
   "display_name": "Python 3",
   "language": "python",
   "name": "python3"
  },
  "language_info": {
   "codemirror_mode": {
    "name": "ipython",
    "version": 3
   },
   "file_extension": ".py",
   "mimetype": "text/x-python",
   "name": "python",
   "nbconvert_exporter": "python",
   "pygments_lexer": "ipython3",
   "version": "3.7.3"
  }
 },
 "nbformat": 4,
 "nbformat_minor": 4
}
